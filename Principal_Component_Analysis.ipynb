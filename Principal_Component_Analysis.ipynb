{
  "nbformat": 4,
  "nbformat_minor": 0,
  "metadata": {
    "colab": {
      "provenance": []
    },
    "kernelspec": {
      "name": "python3",
      "display_name": "Python 3"
    },
    "language_info": {
      "name": "python"
    }
  },
  "cells": [
    {
      "cell_type": "code",
      "execution_count": null,
      "metadata": {
        "id": "U0gaSjlR0HHq"
      },
      "outputs": [],
      "source": [
        "import numpy as np\n",
        "import matplotlib.pyplot as plt"
      ]
    },
    {
      "cell_type": "markdown",
      "source": [
        "# Principal Component Analysis\n",
        "\n",
        "The below algorithm is not useful for practical implementation on large data, due to its $O(np^2)$ time complexity. However, this is the simplest one I found, which comes from the wikipedia article found [here](https://en.wikipedia.org/wiki/Covariance).\n",
        "\n",
        "Steps:\n",
        "\n",
        "1. Organize the data into a matrix X, such that each data point is a $1\\times p$ row vector inside the $n\\times p$ matrix X.\n",
        "2. Find the emprical mean of each element and store it in a vector $u$. Subtract this vector fom each row vector of X, and store it in a new matrix B.\n",
        "3. Find the $n\\times n$ covariance matrix of B, which will be called C. Do this via the following formula: $C = \\frac{1}{n - 1}B^*B$, such that $B^*$ is the conjugate transpose of B.\n",
        "4. Find the eigenvalues and eigenvectors of the covariance matrix C.\n",
        "    - Eigenvalues are the variance accounted for by the component\n",
        "    - Eigenvectors are the unit vector corresponding to the component"
      ],
      "metadata": {
        "id": "_EpQEyF93FHJ"
      }
    },
    {
      "cell_type": "code",
      "source": [
        "def myPCA(X):\n",
        "\n",
        "    n = X.shape[0]\n",
        "    p = X.shape[1]\n",
        "\n",
        "    # center the data about the mean\n",
        "    means = np.average(X, 0)\n",
        "    B = X - means\n",
        "\n",
        "    # calculate the covariance matrix\n",
        "    C = 1/(n - 1) * B.T @ B\n",
        "\n",
        "    # calculate the eigenvalues\n",
        "    vals, vecs = np.linalg.eig(C)\n",
        "\n",
        "    # sort the eigenvectors by eigenvalue\n",
        "    variances = np.abs(vals)\n",
        "    sorted_indices = np.flip(np.argsort(variances))\n",
        "    sorted_vals = variances[sorted_indices]\n",
        "    sorted_vecs = vecs[sorted_indices]\n",
        "\n",
        "    # return values\n",
        "    return {'values':sorted_vals, 'components':sorted_vecs, 'C':C}"
      ],
      "metadata": {
        "id": "wLAZCLi03EIK"
      },
      "execution_count": null,
      "outputs": []
    },
    {
      "cell_type": "markdown",
      "source": [
        "# PCA as a controllability test\n",
        "\n",
        "For the purposes of this lab, the sole types of systems that we need to be concerned about are those taking the from $\\dot{x}=f(u)$, where $x \\in \\mathbb{R}^n$ is the fully observable state of the system, $f: \\mathbb{R}^m → \\mathbb{R}^n$ is some arbitrary function, and $u \\in \\mathbb{R}^m$ is some control input. Since $f$ has no dependence on state, the tests for controllability become a simple rank calculation and require no knowledge of the underlying structure of $f$.\n",
        "\n",
        "Since $f$ has no dependence on x, we can directly compute the following integral from the definition of $\\dot{x}$.\n",
        "\n",
        "$$ x(t) = ∫_{0}^{\\tau}f(u(\\tau))dτ $$\n",
        "\n",
        "Now suppose that $u(\\tau) = u_1$ is constant along some time interval between $t = a$ and $t = b$. It follows trivially that $Δx = (b - a)f(u_1)$. If $u(\\tau)$ were to suddenly change to another value $u_2$ immediately afterwards, it follows that the resulting value of $Δx$ would be a linear combination of the values $f(u_1)$ and $f(u_2)$. Therefore, it is trivial to show that the reachable space of $\\Delta x$ is the $span\\{f(u) |\\forall u \\in \\mathbb{R}^m \\}$ for any linear combination with positive constants.\n",
        "\n",
        "In our context the model $f$ itself is not easily expressible in a concise analytical manner. As a result, it is far simpler to instead perform the calculations in a data-driven manner. As will be expressed later, this alteration of perspective will also permit resilience against noise."
      ],
      "metadata": {
        "id": "nkayIzeh8GBp"
      }
    },
    {
      "cell_type": "markdown",
      "source": [
        "## Data-driven techniques\n",
        "\n",
        "Suppose we have a set of column vectors $f(u)$ that fulfill the above criteria. We will denote the matrix $[f(u_1), f(u_2), ... f(u_k)]$ as $F$, or the matrix containing every output from the model $f$. In an ideal environment with no noise the test is simply checking to see if the centered $f$ is of full row rank. In other words, the ideal algorithm is as follows:\n",
        "$$rank(f - avg(f)) = n$$\n",
        "If it is, it follows that the span of all of the vectors that are known to be an output of $f$ is of the correct dimensionality, meaning that every point is accessible. In contrast, if it is not that implies that there is not enough information to conclusively prove $f$ is controllable. See examples 1 and 2 below for evidence of the former and prior respectively. Each of them show the same function $f$ with different control inputs. Example 1 has a complex enough input to determine controllability, but Example 2 does not."
      ],
      "metadata": {
        "id": "RAfvMxfL_MDp"
      }
    },
    {
      "cell_type": "code",
      "source": [
        "# setup\n",
        "def f(uvec):\n",
        "    (u, v) = uvec\n",
        "\n",
        "    return np.array([\n",
        "        u,\n",
        "        v\n",
        "    ])\n",
        " # example 1\n",
        "def u1(t):\n",
        "    return np.array([\n",
        "        np.sin(t),\n",
        "        t\n",
        "    ])\n",
        "\n",
        "n = 1000\n",
        "t = np.linspace(0,10,n)\n",
        "original_vals = np.empty((n, 2))\n",
        "for indx, time in enumerate(t):\n",
        "    original_vals[indx, :] = f(u1(time))\n",
        "\n",
        "vals = original_vals - np.average(original_vals, 0)\n",
        "rank = np.linalg.matrix_rank(vals)\n",
        "if rank == 2:\n",
        "    print(\"The system \\033[92mis\\033[00m controllable\")\n",
        "else:\n",
        "    print(\"The system \\033[91mis not\\033[00m controllable\")"
      ],
      "metadata": {
        "colab": {
          "base_uri": "https://localhost:8080/"
        },
        "id": "W_Ik9BG4BG1R",
        "outputId": "62ea96f1-f3c6-4cda-f2cd-242fa99cdecd"
      },
      "execution_count": null,
      "outputs": [
        {
          "output_type": "stream",
          "name": "stdout",
          "text": [
            "The system \u001b[92mis\u001b[00m controllable\n"
          ]
        }
      ]
    },
    {
      "cell_type": "code",
      "source": [
        "# example 2\n",
        "def u2(t):\n",
        "    return np.array([\n",
        "        np.sin(t),\n",
        "        1\n",
        "    ])\n",
        "\n",
        "n = 1000\n",
        "t = np.linspace(0,10,n)\n",
        "original_vals = np.empty((n, 2))\n",
        "for indx, time in enumerate(t):\n",
        "    original_vals[indx, :] = f(u2(time))\n",
        "\n",
        "vals = original_vals - np.average(original_vals, 0)\n",
        "rank = np.linalg.matrix_rank(vals)\n",
        "if rank == 2:\n",
        "    print(\"The system \\033[92mis\\033[00m controllable\")\n",
        "else:\n",
        "    print(\"The system \\033[91mis not\\033[00m controllable\")"
      ],
      "metadata": {
        "colab": {
          "base_uri": "https://localhost:8080/"
        },
        "id": "zK_7WdYCDMT5",
        "outputId": "a9efbed6-ea75-41f9-9a8d-49b82b80d1a9"
      },
      "execution_count": null,
      "outputs": [
        {
          "output_type": "stream",
          "name": "stdout",
          "text": [
            "The system \u001b[91mis not\u001b[00m controllable\n"
          ]
        }
      ]
    },
    {
      "cell_type": "markdown",
      "source": [
        "## Accounting for noise\n",
        "\n",
        "This simplistic model degrades once noise is introduced into the system. Matrix rank is independent of the scale of the nonzero bases, so one axis with a  small amount of noise-induced variance would be equivalently important to another axis with a large amount of input-induced variance. Evidence of this is shown below in Example 3."
      ],
      "metadata": {
        "id": "8IfyIzPfAE9c"
      }
    },
    {
      "cell_type": "code",
      "source": [
        "# example 3\n",
        "def f2(uvec):\n",
        "\n",
        "    (u, v) = uvec\n",
        "\n",
        "    return np.array([\n",
        "        u,\n",
        "        0.01 * np.random.rand()\n",
        "    ])\n",
        "\n",
        "def u3(t):\n",
        "    return np.array([\n",
        "        np.sin(t),\n",
        "        t\n",
        "    ])\n",
        "\n",
        "n = 1000\n",
        "t = np.linspace(0,10,n)\n",
        "original_vals = np.empty((n, 2))\n",
        "for indx, time in enumerate(t):\n",
        "    original_vals[indx, :] = f2(u3(time))\n",
        "\n",
        "vals = original_vals - np.average(original_vals, 0)\n",
        "rank = np.linalg.matrix_rank(vals)\n",
        "if rank == 2:\n",
        "    print(\"The system \\033[92mis\\033[00m controllable\")\n",
        "else:\n",
        "    print(\"The system \\033[91mis not\\033[00m controllable\")"
      ],
      "metadata": {
        "colab": {
          "base_uri": "https://localhost:8080/"
        },
        "id": "VxCz3AmzBHNX",
        "outputId": "9e7d2018-673e-4785-ac25-a7abf0f71371"
      },
      "execution_count": null,
      "outputs": [
        {
          "output_type": "stream",
          "name": "stdout",
          "text": [
            "The system \u001b[92mis\u001b[00m controllable\n"
          ]
        }
      ]
    },
    {
      "cell_type": "markdown",
      "source": [
        "The inputs are the same as the controllable case, but now we have some noise in the trivialy uncontrollable model $f$ itself. When plotting the values of f over time this becomes much more apparent."
      ],
      "metadata": {
        "id": "-O18T6P9EfLL"
      }
    },
    {
      "cell_type": "code",
      "source": [
        "plt.plot(original_vals)\n",
        "plt.title(\"Noisy model controllability issues\")\n",
        "plt.show()"
      ],
      "metadata": {
        "colab": {
          "base_uri": "https://localhost:8080/",
          "height": 452
        },
        "id": "e4iHzl-gE9t9",
        "outputId": "61006bbc-6c88-4902-9b29-c2d8d4404d28"
      },
      "execution_count": null,
      "outputs": [
        {
          "output_type": "display_data",
          "data": {
            "text/plain": [
              "<Figure size 640x480 with 1 Axes>"
            ],
            "image/png": "[encoded data removed]"
          },
          "metadata": {}
        }
      ]
    },
    {
      "cell_type": "markdown",
      "source": [
        "This model clearly does not demonstrate controllable behavior in each axis, but this data-driven approach is not robust enough to detect this erroneous behavior. To deal with this effect, we will make use of the Principal Component Analysis technique."
      ],
      "metadata": {
        "id": "lx0b8rBGFNkp"
      }
    },
    {
      "cell_type": "code",
      "source": [
        "# example 3\n",
        "def f2(uvec):\n",
        "\n",
        "    (u, v) = uvec\n",
        "\n",
        "    return np.array([\n",
        "        u,\n",
        "        0.01 * np.random.rand()\n",
        "    ])\n",
        "\n",
        "def u3(t):\n",
        "    return np.array([\n",
        "        np.sin(t),\n",
        "        t\n",
        "    ])\n",
        "\n",
        "n = 1000\n",
        "t = np.linspace(0,10,n)\n",
        "original_vals = np.empty((n, 2))\n",
        "for indx, time in enumerate(t):\n",
        "    original_vals[indx, :] = f2(u3(time))\n",
        "\n",
        "threshold = 0.01\n",
        "results = myPCA(original_vals)\n",
        "vars = results['values']\n",
        "\n",
        "# printing about not normalized axes\n",
        "print(\"Variances: \", end=\"\")\n",
        "count = 0\n",
        "for indx, var in enumerate(vars):\n",
        "    if var/np.max(vars) < threshold:\n",
        "        color = \"\\033[91m\"\n",
        "        count += 1\n",
        "    else:\n",
        "        color = \"\\033[92m\"\n",
        "    if indx == len(vars) - 1:\n",
        "        last = \"\\n\"\n",
        "    else:\n",
        "        last = \", \"\n",
        "    print(f\"{color}{var:.6f}\\033[00m\", end=last)\n",
        "\n",
        "# printing about normalized axes\n",
        "print(\"Normalized Variances: \", end=\"\")\n",
        "for indx, nvar in enumerate(vars/np.max(vars)):\n",
        "    if nvar < threshold:\n",
        "        color = \"\\033[91m\"\n",
        "    else:\n",
        "        color = \"\\033[92m\"\n",
        "    if indx == len(vars) - 1:\n",
        "        last = \"\\n\"\n",
        "    else:\n",
        "        last = \", \"\n",
        "    print(f\"{color}{nvar:.6f}\\033[00m\", end=last)\n",
        "\n",
        "# printing about controllability results\n",
        "print(\"\\n\")\n",
        "if count == 0:\n",
        "    print(\"This test found the system to be \\033[92mcontrollable\\033[00m\")\n",
        "elif count == 1:\n",
        "    print(f\"This test found the system to be \\033[91muncontrollable\\033[00m with 1 problematic axis\")\n",
        "else:\n",
        "    print(f\"This test found the system to be \\033[91muncontrollable\\033[00m with {count} problematic axes\")"
      ],
      "metadata": {
        "colab": {
          "base_uri": "https://localhost:8080/"
        },
        "id": "_KBpXM1YFcrB",
        "outputId": "b7962398-8dc7-490c-846a-d931dda36ba7"
      },
      "execution_count": null,
      "outputs": [
        {
          "output_type": "stream",
          "name": "stdout",
          "text": [
            "Variances: \u001b[92m0.443638\u001b[00m, \u001b[91m0.000008\u001b[00m\n",
            "Normalized Variances: \u001b[92m1.000000\u001b[00m, \u001b[91m0.000018\u001b[00m\n",
            "\n",
            "\n",
            "This test found the system to be \u001b[91muncontrollable\u001b[00m with 1 problematic axis\n"
          ]
        }
      ]
    },
    {
      "cell_type": "markdown",
      "source": [
        "The above code performs PCA on the data and finds each principal axis. From there it checks if the variance along that axis is above some predefined threshold relative to the maximum variance. If it falls below the permitted value then it is considered to be based in noise and therefore an indicator of uncontrollability.\n",
        "\n",
        "A threshold is used because the variance would practically never reach zero. Furthermore, the normalized variance is used in determining the threshold because it provides more restrictions on the geometry of the distribution and ensures that the cutoffs are taken relative to a given reference frame. This *could* be subject to change if we get a better idea of the variance induced by sensor noise, but as of right now it seems to be effective.\n",
        "\n",
        "When the same PCA is used on a controllable system with controllable inputs it can successfully identify its controllable nature."
      ],
      "metadata": {
        "id": "5qshNDhSGSkO"
      }
    },
    {
      "cell_type": "code",
      "source": [
        "# example 4\n",
        "def u4(t):\n",
        "    return np.array([\n",
        "        2 * np.sin(t),\n",
        "        t/2\n",
        "    ])\n",
        "\n",
        "def f(u):\n",
        "    return np.array([\n",
        "        u[0],\n",
        "        0\n",
        "    ])\n",
        "\n",
        "n = 1000\n",
        "t = np.linspace(0,10,n)\n",
        "original_vals = np.empty((n, 2))\n",
        "for indx, time in enumerate(t):\n",
        "    original_vals[indx, :] = f(u4(time)) + np.random.rand(2) * 0.01\n",
        "\n",
        "threshold = 0.01\n",
        "results = myPCA(original_vals)\n",
        "vars = results['values']\n",
        "\n",
        "# printing about not normalized axes\n",
        "print(\"Variances: \", end=\"\")\n",
        "count = 0\n",
        "for indx, var in enumerate(vars):\n",
        "    if var/np.max(vars) < threshold:\n",
        "        color = \"\\033[91m\"\n",
        "        count += 1\n",
        "    else:\n",
        "        color = \"\\033[92m\"\n",
        "    if indx == len(vars) - 1:\n",
        "        last = \"\\n\"\n",
        "    else:\n",
        "        last = \", \"\n",
        "    print(f\"{color}{var:.6f}\\033[00m\", end=last)\n",
        "\n",
        "# printing about normalized axes\n",
        "print(\"Normalized Variances: \", end=\"\")\n",
        "for indx, nvar in enumerate(vars/np.max(vars)):\n",
        "    if nvar < threshold:\n",
        "        color = \"\\033[91m\"\n",
        "    else:\n",
        "        color = \"\\033[92m\"\n",
        "    if indx == len(vars) - 1:\n",
        "        last = \"\\n\"\n",
        "    else:\n",
        "        last = \", \"\n",
        "    print(f\"{color}{nvar:.6f}\\033[00m\", end=last)\n",
        "\n",
        "# printing about controllability results\n",
        "print(\"\\n\")\n",
        "if count == 0:\n",
        "    print(\"This test found the system to be \\033[92mcontrollable\\033[00m\")\n",
        "elif count == 1:\n",
        "    print(f\"This test found the system to be \\033[91muncontrollable\\033[00m with 1 problematic axis\")\n",
        "else:\n",
        "    print(f\"This test found the system to be \\033[91muncontrollable\\033[00m with {count} problematic axes\")"
      ],
      "metadata": {
        "colab": {
          "base_uri": "https://localhost:8080/"
        },
        "id": "E08-czr0Hfil",
        "outputId": "c30fe12e-53db-4889-9cb7-bd409223d17b"
      },
      "execution_count": null,
      "outputs": [
        {
          "output_type": "stream",
          "name": "stdout",
          "text": [
            "Variances: \u001b[92m1.774499\u001b[00m, \u001b[91m0.000008\u001b[00m\n",
            "Normalized Variances: \u001b[92m1.000000\u001b[00m, \u001b[91m0.000005\u001b[00m\n",
            "\n",
            "\n",
            "This test found the system to be \u001b[91muncontrollable\u001b[00m with 1 problematic axis\n"
          ]
        }
      ]
    },
    {
      "cell_type": "code",
      "source": [
        "results"
      ],
      "metadata": {
        "colab": {
          "base_uri": "https://localhost:8080/"
        },
        "id": "vWSUtc0hfn6W",
        "outputId": "23749ccc-7ce1-4132-be4b-0e65223e48a2"
      },
      "execution_count": null,
      "outputs": [
        {
          "output_type": "execute_result",
          "data": {
            "text/plain": [
              "{'values': array([1.77449926e+00, 8.35137427e-06]),\n",
              " 'components': array([[ 9.99999999e-01,  3.35147847e-05],\n",
              "        [-3.35147847e-05,  9.99999999e-01]]),\n",
              " 'C': array([[ 1.77449926e+00, -5.94716806e-05],\n",
              "        [-5.94716806e-05,  8.35336745e-06]])}"
            ]
          },
          "metadata": {},
          "execution_count": 27
        }
      ]
    },
    {
      "cell_type": "markdown",
      "source": [
        "This technique is useful in determining the relative importance of each axis. As a result, when using it one should make sure that each element of $f$ should be of roughly equivalent importance. Significant deviations in importance can cause confusion between noise and intentional inputs."
      ],
      "metadata": {
        "id": "cX24pd8gH5e6"
      }
    },
    {
      "cell_type": "code",
      "source": [
        "plt.plot(original_vals)\n",
        "plt.title(\"PCA Controllability identification\")\n",
        "plt.show()"
      ],
      "metadata": {
        "colab": {
          "base_uri": "https://localhost:8080/",
          "height": 452
        },
        "id": "FnTQBtSqJxX0",
        "outputId": "a340d255-ac40-49ce-818a-71f09313d405"
      },
      "execution_count": null,
      "outputs": [
        {
          "output_type": "display_data",
          "data": {
            "text/plain": [
              "<Figure size 640x480 with 1 Axes>"
            ],
            "image/png": "[encoded data removed]"
          },
          "metadata": {}
        }
      ]
    },
    {
      "cell_type": "markdown",
      "source": [
        "One important note is that the PCA does not care about the values of $u(t)$. As a result, the underlying dynamics of $f(u)$ are irrelevant, as it is assumed that any values of $u(t)$ can be chosen and therefore any desired value of $\\dot{x}$."
      ],
      "metadata": {
        "id": "xIyhSgGIOgV6"
      }
    },
    {
      "cell_type": "code",
      "source": [
        "# example 4\n",
        "def u4(t):\n",
        "    return np.array([\n",
        "        t,\n",
        "        np.cos(t + 3)\n",
        "    ])\n",
        "\n",
        "# setup\n",
        "def f_paper(uvec):\n",
        "    (u, v) = uvec\n",
        "\n",
        "    return np.array([\n",
        "        np.sin(u),\n",
        "        v\n",
        "    ])\n",
        "\n",
        "n = 1000\n",
        "t = np.linspace(0,10,n)\n",
        "original_vals = np.empty((n, 2))\n",
        "for indx, time in enumerate(t):\n",
        "    original_vals[indx, :] = f_paper(u4(time))\n",
        "\n",
        "threshold = 0.01\n",
        "results = myPCA(original_vals)\n",
        "vars = results['values']\n",
        "\n",
        "# printing about not normalized axes\n",
        "print(\"Variances: \", end=\"\")\n",
        "count = 0\n",
        "for indx, var in enumerate(vars):\n",
        "    if var/np.max(vars) < threshold:\n",
        "        color = \"\\033[91m\"\n",
        "        count += 1\n",
        "    else:\n",
        "        color = \"\\033[92m\"\n",
        "    if indx == len(vars) - 1:\n",
        "        last = \"\\n\"\n",
        "    else:\n",
        "        last = \", \"\n",
        "    print(f\"{color}{var:.6f}\\033[00m\", end=last)\n",
        "\n",
        "# printing about normalized axes\n",
        "print(\"Normalized Variances: \", end=\"\")\n",
        "for indx, nvar in enumerate(vars/np.max(vars)):\n",
        "    if nvar < threshold:\n",
        "        color = \"\\033[91m\"\n",
        "    else:\n",
        "        color = \"\\033[92m\"\n",
        "    if indx == len(vars) - 1:\n",
        "        last = \"\\n\"\n",
        "    else:\n",
        "        last = \", \"\n",
        "    print(f\"{color}{nvar:.6f}\\033[00m\", end=last)\n",
        "\n",
        "# printing about controllability results\n",
        "print(\"\\n\")\n",
        "if count == 0:\n",
        "    print(\"This test found the system to be \\033[92mcontrollable\\033[00m\")\n",
        "elif count == 1:\n",
        "    print(f\"This test found the system to be \\033[91muncontrollable\\033[00m with 1 problematic axis\")\n",
        "else:\n",
        "    print(f\"This test found the system to be \\033[91muncontrollable\\033[00m with {count} problematic axes\")"
      ],
      "metadata": {
        "colab": {
          "base_uri": "https://localhost:8080/"
        },
        "id": "nlg5zzZ2LOOG",
        "outputId": "435fd6df-e1d6-47bb-d1c0-eb9335b92888"
      },
      "execution_count": null,
      "outputs": [
        {
          "output_type": "stream",
          "name": "stdout",
          "text": [
            "Variances: \u001b[92m0.581512\u001b[00m, \u001b[92m0.388301\u001b[00m\n",
            "Normalized Variances: \u001b[92m1.000000\u001b[00m, \u001b[92m0.667743\u001b[00m\n",
            "\n",
            "\n",
            "This test found the system to be \u001b[92mcontrollable\u001b[00m\n"
          ]
        }
      ]
    },
    {
      "cell_type": "code",
      "source": [
        "results"
      ],
      "metadata": {
        "colab": {
          "base_uri": "https://localhost:8080/"
        },
        "id": "ZKt-48227JTa",
        "outputId": "ecb9a372-50ec-4d1c-b709-a890d1a65073"
      },
      "execution_count": null,
      "outputs": [
        {
          "output_type": "execute_result",
          "data": {
            "text/plain": [
              "{'values': array([0.58151233, 0.38830103]),\n",
              " 'components': array([[-0.53516853, -0.84474531],\n",
              "        [-0.84474531,  0.53516853]]),\n",
              " 'C': array([[ 0.44363778, -0.08734718],\n",
              "        [-0.08734718,  0.52617557]])}"
            ]
          },
          "metadata": {},
          "execution_count": 11
        }
      ]
    },
    {
      "cell_type": "code",
      "source": [
        "# example 4\n",
        "def u4(t):\n",
        "    return np.array([\n",
        "        t,\n",
        "        np.cos(t + 3)\n",
        "    ])\n",
        "\n",
        "# setup\n",
        "def f_paper(uvec):\n",
        "    (u, v) = uvec\n",
        "\n",
        "    return np.array([\n",
        "        np.sin(u),\n",
        "        v\n",
        "    ])\n",
        "\n",
        "n = 1000\n",
        "t = np.linspace(0,10,n)\n",
        "original_vals = np.empty((n, 2))\n",
        "for indx, time in enumerate(t):\n",
        "    original_vals[indx, :] = f_paper(u4(time) + 0.01 * np.random.rand(2))\n",
        "\n",
        "threshold = 0.01\n",
        "results = myPCA(original_vals)\n",
        "vars = results['values']\n",
        "\n",
        "# printing about not normalized axes\n",
        "print(\"Variances: \", end=\"\")\n",
        "count = 0\n",
        "for indx, var in enumerate(vars):\n",
        "    if var/np.max(vars) < threshold:\n",
        "        color = \"\\033[91m\"\n",
        "        count += 1\n",
        "    else:\n",
        "        color = \"\\033[92m\"\n",
        "    if indx == len(vars) - 1:\n",
        "        last = \"\\n\"\n",
        "    else:\n",
        "        last = \", \"\n",
        "    print(f\"{color}{var:.6f}\\033[00m\", end=last)\n",
        "\n",
        "# printing about normalized axes\n",
        "print(\"Normalized Variances: \", end=\"\")\n",
        "for indx, nvar in enumerate(vars/np.max(vars)):\n",
        "    if nvar < threshold:\n",
        "        color = \"\\033[91m\"\n",
        "    else:\n",
        "        color = \"\\033[92m\"\n",
        "    if indx == len(vars) - 1:\n",
        "        last = \"\\n\"\n",
        "    else:\n",
        "        last = \", \"\n",
        "    print(f\"{color}{nvar:.6f}\\033[00m\", end=last)\n",
        "\n",
        "# printing about controllability results\n",
        "print(\"\\n\")\n",
        "if count == 0:\n",
        "    print(\"This test found the system to be \\033[92mcontrollable\\033[00m\")\n",
        "elif count == 1:\n",
        "    print(f\"This test found the system to be \\033[91muncontrollable\\033[00m with 1 problematic axis\")\n",
        "else:\n",
        "    print(f\"This test found the system to be \\033[91muncontrollable\\033[00m with {count} problematic axes\")"
      ],
      "metadata": {
        "id": "YcIig0BdM5nC",
        "outputId": "1731ecbd-ec28-49b4-a9ee-b37aaea50839",
        "colab": {
          "base_uri": "https://localhost:8080/"
        }
      },
      "execution_count": null,
      "outputs": [
        {
          "output_type": "stream",
          "name": "stdout",
          "text": [
            "Variances: \u001b[92m0.583935\u001b[00m, \u001b[92m0.386116\u001b[00m\n",
            "Normalized Variances: \u001b[92m1.000000\u001b[00m, \u001b[92m0.661231\u001b[00m\n",
            "\n",
            "\n",
            "This test found the system to be \u001b[92mcontrollable\u001b[00m\n"
          ]
        }
      ]
    },
    {
      "cell_type": "code",
      "source": [
        "# example 4\n",
        "def u4(t):\n",
        "    return np.array([\n",
        "        t,\n",
        "        np.cos(t + 3)\n",
        "    ])\n",
        "\n",
        "# setup\n",
        "def f_paper(uvec):\n",
        "    (u, v) = uvec\n",
        "\n",
        "    return np.array([\n",
        "        np.sin(u),\n",
        "        2 * np.sin(u)\n",
        "    ])\n",
        "\n",
        "n = 1000\n",
        "t = np.linspace(0,10,n)\n",
        "original_vals = np.empty((n, 2))\n",
        "for indx, time in enumerate(t):\n",
        "    original_vals[indx, :] = f_paper(u4(time) + 0.01 * np.random.rand(2))\n",
        "\n",
        "threshold = 0.01\n",
        "results = myPCA(original_vals)\n",
        "vars = results['values']\n",
        "\n",
        "# printing about not normalized axes\n",
        "print(\"Variances: \", end=\"\")\n",
        "count = 0\n",
        "for indx, var in enumerate(vars):\n",
        "    if var/np.max(vars) < threshold:\n",
        "        color = \"\\033[91m\"\n",
        "        count += 1\n",
        "    else:\n",
        "        color = \"\\033[92m\"\n",
        "    if indx == len(vars) - 1:\n",
        "        last = \"\\n\"\n",
        "    else:\n",
        "        last = \", \"\n",
        "    print(f\"{color}{var:.6f}\\033[00m\", end=last)\n",
        "\n",
        "# printing about normalized axes\n",
        "print(\"Normalized Variances: \", end=\"\")\n",
        "for indx, nvar in enumerate(vars/np.max(vars)):\n",
        "    if nvar < threshold:\n",
        "        color = \"\\033[91m\"\n",
        "    else:\n",
        "        color = \"\\033[92m\"\n",
        "    if indx == len(vars) - 1:\n",
        "        last = \"\\n\"\n",
        "    else:\n",
        "        last = \", \"\n",
        "    print(f\"{color}{nvar:.6f}\\033[00m\", end=last)\n",
        "\n",
        "# printing about controllability results\n",
        "print(\"\\n\")\n",
        "if count == 0:\n",
        "    print(\"This test found the system to be \\033[92mcontrollable\\033[00m\")\n",
        "elif count == 1:\n",
        "    print(f\"This test found the system to be \\033[91muncontrollable\\033[00m with 1 problematic axis\")\n",
        "else:\n",
        "    print(f\"This test found the system to be \\033[91muncontrollable\\033[00m with {count} problematic axes\")"
      ],
      "metadata": {
        "colab": {
          "base_uri": "https://localhost:8080/"
        },
        "id": "B1pQ7Zvi7_tQ",
        "outputId": "4fb68995-47fc-4bc0-a5eb-74d63430ada3"
      },
      "execution_count": null,
      "outputs": [
        {
          "output_type": "stream",
          "name": "stdout",
          "text": [
            "Variances: \u001b[92m2.219109\u001b[00m, \u001b[91m0.000000\u001b[00m\n",
            "Normalized Variances: \u001b[92m1.000000\u001b[00m, \u001b[91m0.000000\u001b[00m\n",
            "\n",
            "\n",
            "This test found the system to be \u001b[91muncontrollable\u001b[00m with 1 problematic axis\n"
          ]
        }
      ]
    },
    {
      "cell_type": "code",
      "source": [
        "results"
      ],
      "metadata": {
        "colab": {
          "base_uri": "https://localhost:8080/"
        },
        "id": "rcszSX7j9-kr",
        "outputId": "b2aba282-518e-4b1e-e157-779a4b21f5ae"
      },
      "execution_count": null,
      "outputs": [
        {
          "output_type": "execute_result",
          "data": {
            "text/plain": [
              "{'values': array([2.21910899e+00, 2.22044605e-16]),\n",
              " 'components': array([[ 0.4472136 , -0.89442719],\n",
              "        [-0.89442719, -0.4472136 ]]),\n",
              " 'C': array([[0.4438218 , 0.8876436 ],\n",
              "        [0.8876436 , 1.77528719]])}"
            ]
          },
          "metadata": {},
          "execution_count": 14
        }
      ]
    }
  ]
}